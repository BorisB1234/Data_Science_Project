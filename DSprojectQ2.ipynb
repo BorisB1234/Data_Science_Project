{
 "cells": [
  {
   "cell_type": "markdown",
   "metadata": {},
   "source": [
    "# Data Science Project assignment 2 with spark"
   ]
  },
  {
   "cell_type": "code",
   "execution_count": 1,
   "metadata": {},
   "outputs": [],
   "source": [
    "# importing libraries \n",
    "\n",
    "import pyspark\n",
    "from pyspark.sql.functions import col\n",
    "from pyspark.sql import SparkSession\n",
    "from pyspark import SparkContext, SparkConf\n",
    "from pyspark.sql import SQLContext\n",
    "from pyspark.mllib.classification import NaiveBayes, NaiveBayesModel\n",
    "from pyspark.mllib.util import MLUtils\n",
    "from pyspark.ml.feature import StringIndexer\n",
    "from pyspark.ml.linalg import Vectors\n",
    "from pyspark.ml.feature import VectorAssembler\n",
    "conf = SparkConf().setAppName(\"HoteslData\").setMaster(\"local[*]\")\n",
    "sc = SparkContext.getOrCreate() "
   ]
  },
  {
   "cell_type": "code",
   "execution_count": 2,
   "metadata": {},
   "outputs": [],
   "source": [
    "# opening new spark session sql \n",
    "spark = SparkSession \\\n",
    "    .builder \\\n",
    "    .appName(\"Python Spark SQL basic example\") \\\n",
    "    .config(\"spark.some.config.option\", \"some-value\") \\\n",
    "    .getOrCreate()"
   ]
  },
  {
   "cell_type": "code",
   "execution_count": 3,
   "metadata": {},
   "outputs": [],
   "source": [
    "# read the csv we got from assignment number 1\n",
    "Hotels_data_Changed = spark.read.csv(\"Hotels_data_Changed.csv\",header=True,inferSchema=True)\n",
    "## order the dataset2 by Dates\n",
    "Hotels_data_Changed= Hotels_data_Changed.orderBy([\"Snapshot Date\", \"Checkin Date\"], ascending=[1, 1])\n",
    "## create New DataFrame from dataeset2 that will contain the columns that we need (this is not the groupby table)\n",
    "NewCol= Hotels_data_Changed.select('WeekDay','Snapshot Date','Checkin Date','DayDiff','Hotel Name','DiscountPerc','Discount Code')\n",
    "## group by 'WeekDay','Snapshot Date','Checkin Date','DayDiff','Hotel Name' from dataset2\n",
    "GourpDD = Hotels_data_Changed.groupBy('WeekDay','Snapshot Date','Checkin Date','DayDiff','Hotel Name').max('DiscountPerc')\n",
    "##Rename the max column to his original name\n",
    "GourpDD = GourpDD.withColumnRenamed(\"max(DiscountPerc)\", \"DiscountPerc\")\n",
    "##sort\\ orderby GourpDD by Dates\n",
    "GourpDD= GourpDD.orderBy([\"Snapshot Date\", \"Checkin Date\"], ascending=[1, 1])"
   ]
  },
  {
   "cell_type": "code",
   "execution_count": 4,
   "metadata": {},
   "outputs": [],
   "source": [
    "## Marge NewCol into GourpDD to refile the missing Discount Code column that GourpDD missing\n",
    "JoinGroup_df = GourpDD.join(NewCol, on=['WeekDay','Snapshot Date','Checkin Date','DayDiff','Hotel Name','DiscountPerc'], how='inner')\n",
    "## save the new GroupBy + Marge\\join table\n",
    "JoinGroup_df.toPandas().to_csv('JoinGroup_df.csv',index=False)"
   ]
  },
  {
   "cell_type": "markdown",
   "metadata": {},
   "source": [
    "### Cleaning datas"
   ]
  },
  {
   "cell_type": "code",
   "execution_count": 5,
   "metadata": {},
   "outputs": [],
   "source": [
    "## data_GM - data GroupBy + Marge\n",
    "data_GM = spark.read.csv(\"JoinGroup_df.csv\",header=True,inferSchema=True)"
   ]
  },
  {
   "cell_type": "markdown",
   "metadata": {},
   "source": [
    "#### Make TimeStamp Date (Snapshot Date and Checkin Date) into int"
   ]
  },
  {
   "cell_type": "code",
   "execution_count": 6,
   "metadata": {},
   "outputs": [],
   "source": [
    "import pyspark.sql.functions as fn\n",
    "from pyspark.sql.types import *\n",
    "#indexing Snapshot Date and Checkin Date\n",
    "data_GM = data_GM.withColumn(\"Snapshot Date\", data_GM[\"Snapshot Date\"].cast(\"String\"))\n",
    "data_GM = data_GM.withColumn(\"Checkin Date\", data_GM[\"Checkin Date\"].cast(\"String\"))\n",
    "# String Index the strings into index\n",
    "# stringIndexer() - A label indexer that maps a string column of labels to an ML column of label indices.\n",
    "indexer = StringIndexer(inputCol=\"Snapshot Date\", outputCol=\"sSnapshot Date\")\n",
    "# fit() - Fits a model to the input dataset with optional parameters.\n",
    "final_da = indexer.fit(data_GM).transform(data_GM)\n",
    "indexer = StringIndexer(inputCol=\"Checkin Date\", outputCol=\"sCheckin Date\")\n",
    "data_GM = indexer.fit(final_da).transform(final_da)\n",
    "#clear and rename the Date's columns that we need as numeric\n",
    "# withColumnRenamed() rename the header of the column\n",
    "data_GM = data_GM.drop('Snapshot Date').drop('Checkin Date').withColumnRenamed(\"sSnapshot Date\", \"Snapshot Date\").withColumnRenamed(\"sCheckin Date\", \"Checkin Date\")"
   ]
  },
  {
   "cell_type": "markdown",
   "metadata": {},
   "source": [
    "#### Make Hotel Name in data_GM into Index by StringIndexer and pulish other columns"
   ]
  },
  {
   "cell_type": "code",
   "execution_count": 7,
   "metadata": {},
   "outputs": [],
   "source": [
    "from pyspark.ml.feature import StringIndexer\n",
    "indexer = StringIndexer(inputCol=\"Hotel Name\", outputCol=\"Hotel Name new\")\n",
    "final_data_GM = indexer.fit(data_GM).transform(data_GM)\n",
    "# value change because ML is expecting to get 0 based lables\n",
    "# we will lower our own lables by 1\n",
    "# now 1 will be 1, 2 will be ,3 will be 2, 4 will be 3\n",
    "\n",
    "final_data_GM = final_data_GM.withColumn(\"Discount Code\", final_data_GM[\"Discount Code\"]-1)\n"
   ]
  },
  {
   "cell_type": "code",
   "execution_count": 8,
   "metadata": {},
   "outputs": [],
   "source": [
    "# withColumn() - Returns a new :class:`DataFrame` by adding a column or replacing the existing column that has the same name.\n",
    "final_data_GM = final_data_GM.withColumn(\"WeekDay\", final_data_GM[\"WeekDay\"].cast(\"int\"))\n",
    "final_data_GM = final_data_GM.withColumn(\"DiscountPerc\", final_data_GM[\"DiscountPerc\"].cast(\"float\"))\n",
    "final_data_GM = final_data_GM.withColumn(\"Discount Code\", final_data_GM[\"Discount Code\"].cast(\"float\"))\n",
    "\n",
    "final_data_GM = final_data_GM.select(['Discount Code','WeekDay','Snapshot Date','Checkin Date','DayDiff','Hotel Name new','DiscountPerc'])"
   ]
  },
  {
   "cell_type": "code",
   "execution_count": 9,
   "metadata": {},
   "outputs": [],
   "source": [
    "final_data_GM.toPandas().to_csv('final_data_GM.csv',index=False)"
   ]
  },
  {
   "cell_type": "code",
   "execution_count": 10,
   "metadata": {},
   "outputs": [],
   "source": [
    "df = spark.read.csv('final_data_GM.csv',inferSchema=True,header=True)"
   ]
  },
  {
   "cell_type": "markdown",
   "metadata": {},
   "source": [
    "#### Vector the features and split the data to train and test"
   ]
  },
  {
   "cell_type": "code",
   "execution_count": 11,
   "metadata": {},
   "outputs": [],
   "source": [
    "assembler = VectorAssembler(\n",
    "  inputCols=['WeekDay',\n",
    " 'DayDiff',\n",
    " 'DiscountPerc',\n",
    " 'Snapshot Date',\n",
    " 'Checkin Date',\n",
    " 'Hotel Name new'],\n",
    "    outputCol=\"features\")\n",
    "# Vector the features from df into output\n",
    "#transform()- Transforms the input dataset with optional parameters.\n",
    "output = assembler.transform(df)\n",
    "# select the columns that we need\n",
    "final_data = output.select(\"features\", \"Discount Code\")\n",
    "final_data.toPandas().to_csv('final_dataVc.csv',index=False)\n",
    "#final_data =final_data.orderBy('Discount Code')\n",
    "# split final data to train and test data\n",
    "train_data,test_data = final_data.randomSplit([0.7,0.3])"
   ]
  },
  {
   "cell_type": "markdown",
   "metadata": {},
   "source": [
    "### Spark Naive Bayes"
   ]
  },
  {
   "cell_type": "code",
   "execution_count": 12,
   "metadata": {
    "scrolled": false
   },
   "outputs": [
    {
     "name": "stdout",
     "output_type": "stream",
     "text": [
      "+--------------------+-------------+----------+\n",
      "|            features|Discount Code|prediction|\n",
      "+--------------------+-------------+----------+\n",
      "|[0.0,1.0,2.051282...|          3.0|       2.0|\n",
      "|[0.0,1.0,2.352941...|          2.0|       2.0|\n",
      "|[0.0,1.0,2.483940...|          1.0|       2.0|\n",
      "|[0.0,1.0,2.505263...|          1.0|       0.0|\n",
      "|[0.0,1.0,2.614379...|          1.0|       2.0|\n",
      "|[0.0,1.0,2.702702...|          1.0|       2.0|\n",
      "|[0.0,1.0,2.797202...|          2.0|       2.0|\n",
      "|[0.0,1.0,3.024803...|          1.0|       2.0|\n",
      "|[0.0,1.0,3.135717...|          3.0|       0.0|\n",
      "|[0.0,1.0,3.187855...|          1.0|       0.0|\n",
      "|[0.0,1.0,3.211678...|          0.0|       2.0|\n",
      "|[0.0,1.0,3.252032...|          0.0|       2.0|\n",
      "|[0.0,1.0,3.269755...|          1.0|       2.0|\n",
      "|[0.0,1.0,3.298887...|          2.0|       0.0|\n",
      "|[0.0,1.0,3.481228...|          2.0|       2.0|\n",
      "|[0.0,1.0,3.539823...|          0.0|       2.0|\n",
      "|[0.0,1.0,3.680387...|          2.0|       2.0|\n",
      "|[0.0,1.0,3.754512...|          1.0|       0.0|\n",
      "|[0.0,1.0,3.876288...|          1.0|       0.0|\n",
      "|[0.0,1.0,3.924050...|          2.0|       0.0|\n",
      "|[0.0,1.0,3.939394...|          0.0|       0.0|\n",
      "|[0.0,1.0,3.962848...|          1.0|       0.0|\n",
      "|[0.0,1.0,4.150943...|          0.0|       0.0|\n",
      "|[0.0,1.0,4.163658...|          2.0|       0.0|\n",
      "|[0.0,1.0,4.240282...|          2.0|       2.0|\n",
      "|[0.0,1.0,4.312668...|          2.0|       0.0|\n",
      "|[0.0,1.0,4.435146...|          3.0|       2.0|\n",
      "|[0.0,1.0,4.555808...|          3.0|       2.0|\n",
      "|[0.0,1.0,4.627249...|          3.0|       2.0|\n",
      "|[0.0,1.0,4.651162...|          3.0|       2.0|\n",
      "+--------------------+-------------+----------+\n",
      "only showing top 30 rows\n",
      "\n",
      "Test set accuracy = 0.2512645131624325\n"
     ]
    }
   ],
   "source": [
    "from pyspark.ml.classification import NaiveBayes\n",
    "from pyspark.ml.evaluation import MulticlassClassificationEvaluator\n",
    "# create the trainer and set its parameters\n",
    "nb = NaiveBayes(labelCol='Discount Code',featuresCol='features')\n",
    "\n",
    "# train the model\n",
    "model = nb.fit(train_data)\n",
    "# select example rows to display.\n",
    "\n",
    "predictions = model.transform(test_data)\n",
    "\n",
    "\n",
    "# show the specific columns that we need form prediction for better view\n",
    "predictions.select(\"features\",\"Discount Code\",\"prediction\").show(n = 30)\n",
    "#predictions.show()\n",
    "# compute accuracy on the test set\n",
    "evaluator = MulticlassClassificationEvaluator(labelCol=\"Discount Code\", predictionCol=\"prediction\",\n",
    "                                              metricName=\"accuracy\")\n",
    "# get the best accuracy that our naive bayes get.\n",
    "accuracy = evaluator.evaluate(predictions)\n",
    "print(\"Test set accuracy = \" + str(accuracy))\n"
   ]
  },
  {
   "cell_type": "code",
   "execution_count": 23,
   "metadata": {},
   "outputs": [
    {
     "name": "stdout",
     "output_type": "stream",
     "text": [
      "<class 'pyspark.sql.dataframe.DataFrame'>\n",
      "<class 'list'>\n"
     ]
    },
    {
     "data": {
      "image/png": "[encoded data removed]",
      "text/plain": [
       "<Figure size 432x288 with 1 Axes>"
      ]
     },
     "metadata": {
      "needs_background": "light"
     },
     "output_type": "display_data"
    }
   ],
   "source": [
    "import matplotlib.pyplot as plt\n",
    "\n",
    "nb_y_predict = model.transform(test_data)\n",
    "nb_y_expected =  test_data\n",
    "#['Discount Code']\n",
    "print(type(nb_y_expected))\n",
    "mvv_list = test_data.select('Discount Code').collect()\n",
    "print(type(mvv_list))\n",
    "nb_y_expected=mvv_list\n",
    "mvv_list2 = nb_y_predict.select('prediction').collect()\n",
    "nb_y_predict=mvv_list2\n",
    "from sklearn.metrics import roc_curve, auc\n",
    "from sklearn.preprocessing import label_binarize\n",
    "# Binarize the output - for th e ROC\n",
    "bz_nb_y_expected = label_binarize(nb_y_expected, classes=[1,2,3,4])\n",
    "bz_nb_y_predict = label_binarize(nb_y_predict, classes=[1,2,3,4])\n",
    "\n",
    "n_classes = bz_nb_y_expected.shape[1]\n",
    "\n",
    "# Compute ROC curve and ROC area for each class\n",
    "nb_fpr = dict()\n",
    "nb_tpr = dict()\n",
    "nb_roc_auc = dict()\n",
    "for i in range(n_classes):\n",
    "    nb_fpr[i], nb_tpr[i], _ = roc_curve(bz_nb_y_expected[:, i], bz_nb_y_predict[:, i])\n",
    "    nb_roc_auc[i] = auc(nb_fpr[i], nb_tpr[i])\n",
    "\n",
    "# Compute micro-average ROC curve and ROC area\n",
    "nb_fpr[\"micro\"],nb_tpr[\"micro\"], _ = roc_curve(bz_nb_y_expected.ravel(), bz_nb_y_predict.ravel())\n",
    "nb_roc_auc[\"micro\"] = auc(nb_fpr[\"micro\"],  nb_tpr[\"micro\"])\n",
    "\n",
    "#plotting the statistics data\n",
    "plt.figure()\n",
    "lw =1.5\n",
    "plt.plot(nb_fpr[2], nb_tpr[2], color='darkorange', lw=lw, label='ROC curve (area = %0.2f)' %  nb_roc_auc[\"micro\"])\n",
    "plt.plot([0, 1], [0, 1], color='navy', lw=lw, linestyle='--')\n",
    "plt.xlim([0.0, 1.0])\n",
    "plt.ylim([0.0, 1.05])\n",
    "plt.xlabel('False Positive Rate')\n",
    "plt.ylabel('True Positive Rate')\n",
    "plt.title('Receiver operating characteristic of Naive Bayes')\n",
    "plt.legend(loc=\"lower right\")\n",
    "plt.show()\n"
   ]
  },
  {
   "cell_type": "code",
   "execution_count": 14,
   "metadata": {},
   "outputs": [],
   "source": [
    "import matplotlib.pyplot as plt\n",
    "import numpy as np\n",
    "import itertools\n",
    "\n",
    "# the confusion matrix took from the internet\n",
    "#this function will take confusion matrix, bool if to normalize the results or not, \n",
    "                                            #and the color that the matrix will show (defult is blue)\n",
    "def plot_confusion_matrix(cm, classes,\n",
    "                          normalize=False,\n",
    "                          title='Confusion matrix',\n",
    "                          cmap=plt.cm.Blues):\n",
    "    \"\"\"\n",
    "    This function prints and plots the confusion matrix.\n",
    "    Normalization can be applied by setting `normalize=True`.\n",
    "    \"\"\"\n",
    "    # if i signel normalize to be true so normalize the results\n",
    "    if normalize:\n",
    "        cm = cm.astype('float') / cm.sum(axis=1)[:, np.newaxis]\n",
    "        print(\"Normalized confusion matrix\")\n",
    "    else:\n",
    "        print('Confusion matrix, without normalization')\n",
    "\n",
    "    # start plt the details \n",
    "    plt.imshow(cm, interpolation='nearest', cmap=cmap)\n",
    "    plt.title(title)\n",
    "    plt.colorbar()\n",
    "    tick_marks = np.arange(len(classes))\n",
    "    #find how many classes to present in the list (1,2,3,4)\n",
    "    plt.xticks(tick_marks, classes, rotation=45)\n",
    "    plt.yticks(tick_marks, classes)\n",
    "    #format if normalize or not\n",
    "    fmt = '.2f' if normalize else 'd'\n",
    "    #trashold\n",
    "    thresh = cm.max() / 2.\n",
    "    #\n",
    "    for i, j in itertools.product(range(cm.shape[0]), range(cm.shape[1])):\n",
    "        plt.text(j, i, format(cm[i, j], fmt),\n",
    "                 horizontalalignment=\"center\",\n",
    "                 color=\"white\" if cm[i, j] > thresh else \"black\")\n",
    "    #Automatically adjust subplot parameters to give specified padding\n",
    "    plt.tight_layout()\n",
    "    plt.ylabel('Discount Code label')\n",
    "    plt.xlabel('Predicted label')"
   ]
  },
  {
   "cell_type": "code",
   "execution_count": 15,
   "metadata": {},
   "outputs": [],
   "source": [
    "#create confusion matrix for display\n",
    "from sklearn.metrics import confusion_matrix\n",
    "y_true = predictions.select(\"Discount Code\")\n",
    "y_true = y_true.toPandas()\n",
    "y_pred = predictions.select(\"prediction\")\n",
    "y_pred = y_pred.toPandas()\n",
    "cnf_matrix = confusion_matrix(y_true, y_pred)\n"
   ]
  },
  {
   "cell_type": "code",
   "execution_count": 16,
   "metadata": {},
   "outputs": [
    {
     "name": "stdout",
     "output_type": "stream",
     "text": [
      "Confusion matrix, without normalization\n"
     ]
    },
    {
     "data": {
      "image/png": "[encoded data removed]",
      "text/plain": [
       "<Figure size 432x288 with 2 Axes>"
      ]
     },
     "metadata": {
      "needs_background": "light"
     },
     "output_type": "display_data"
    }
   ],
   "source": [
    "#print the currect matrix and plot it\n",
    "plt.figure()\n",
    "#test classes as lables\n",
    "classes=[1,2,3,4]\n",
    "plot_confusion_matrix(cnf_matrix, classes,\n",
    "                      title='Confusion matrix, Naive Bayes')\n",
    "plt.show()"
   ]
  },
  {
   "cell_type": "code",
   "execution_count": 17,
   "metadata": {},
   "outputs": [
    {
     "name": "stdout",
     "output_type": "stream",
     "text": [
      "TP of 1 and 1 is 2653\n",
      "TP of 2 and 2 is 502\n",
      "TP of 3 and 3 is 3637\n",
      "TP of 4 and 4 is 1951\n",
      "------------------------------------\n",
      "FP of 2 and 1 is 387\n",
      "FP of 3 and 1 is 2699\n",
      "FP of 4 and 1 is 2621\n",
      "FP of 1 and 2 is 3447\n",
      "FP of 3 and 2 is 3908\n",
      "FP of 4 and 2 is 3192\n",
      "FP of 1 and 3 is 2721\n",
      "FP of 2 and 3 is 400\n",
      "FP of 4 and 3 is 2889\n",
      "FP of 1 and 4 is 1688\n",
      "FP of 2 and 4 is 206\n",
      "FP of 3 and 4 is 1895\n",
      "------------------------------------\n",
      "FN of 1 and 2 is 387\n",
      "FN of 1 and 3 is 2699\n",
      "FN of 1 and 4 is 2621\n",
      "FN of 2 and 1 is 3447\n",
      "FN of 2 and 3 is 3908\n",
      "FN of 2 and 4 is 3192\n",
      "FN of 3 and 1 is 2721\n",
      "FN of 3 and 2 is 400\n",
      "FN of 3 and 4 is 2889\n",
      "FN of 4 and 1 is 1688\n",
      "FN of 4 and 2 is 206\n",
      "FN of 4 and 3 is 1895\n"
     ]
    }
   ],
   "source": [
    "# print TP,FP,FN when this function have been call\n",
    "def printCM(cm, num):\n",
    "    for i in range(num):\n",
    "        print ('TP of {0} and {1} is {2}' ''.format(i+1 , i+1, cm[i][i]))\n",
    "    print ('------------'*3)\n",
    "    for j in range(num):   \n",
    "        for i in range(num):\n",
    "            if j != i:\n",
    "                   print('FP of {0} and {1} is {2}'''.format(i+1, j+1, cm[j][i]))\n",
    "    print ('------------'*3)\n",
    "    for i in range(num):   \n",
    "        for j in range(num):\n",
    "            if j != i:\n",
    "                   print('FN of {0} and {1} is {2}'''.format(i+1, j+1, cm[i][j]))\n",
    "                    \n",
    "printCM(cnf_matrix, 4)"
   ]
  },
  {
   "cell_type": "markdown",
   "metadata": {},
   "source": [
    "### Spark Decision Tree"
   ]
  },
  {
   "cell_type": "code",
   "execution_count": 18,
   "metadata": {},
   "outputs": [
    {
     "name": "stdout",
     "output_type": "stream",
     "text": [
      "+----------+------------+--------------------+\n",
      "|prediction|indexedLabel|            features|\n",
      "+----------+------------+--------------------+\n",
      "|       2.0|         1.0|[0.0,1.0,1.895734...|\n",
      "|       2.0|         0.0|[0.0,1.0,2.465208...|\n",
      "|       1.0|         3.0|[0.0,1.0,2.575897...|\n",
      "|       1.0|         0.0|[0.0,1.0,2.614379...|\n",
      "|       1.0|         1.0|[0.0,1.0,2.702702...|\n",
      "+----------+------------+--------------------+\n",
      "only showing top 5 rows\n",
      "\n",
      "Test Error = 0.607728 \n"
     ]
    }
   ],
   "source": [
    "from pyspark.ml import Pipeline\n",
    "from pyspark.ml.classification import DecisionTreeClassifier\n",
    "from pyspark.ml.feature import StringIndexer, VectorIndexer\n",
    "from pyspark.ml.evaluation import MulticlassClassificationEvaluator\n",
    "\n",
    "labelIndexer = StringIndexer(inputCol=\"Discount Code\", outputCol=\"indexedLabel\").fit(final_data)\n",
    "# Automatically identify categorical features, and index them.\n",
    "# We specify maxCategories so features with > 4 distinct values are treated as continuous.\n",
    "featureIndexer =\\\n",
    "    VectorIndexer(inputCol=\"features\", outputCol=\"indexedFeatures\", maxCategories=4).fit(final_data)\n",
    "\n",
    "# Split the data into training and test sets (30% held out for testing)\n",
    "(train_data, test_data) = final_data.randomSplit([0.7, 0.3])\n",
    "# Train a DecisionTree model.\n",
    "dt = DecisionTreeClassifier(labelCol=\"indexedLabel\", featuresCol=\"indexedFeatures\",minInfoGain=0)\n",
    "\n",
    "# Chain indexers and tree in a Pipeline\n",
    "pipeline = Pipeline(stages=[labelIndexer, featureIndexer, dt])\n",
    "\n",
    "# Train model.  This also runs the indexers.\n",
    "model = pipeline.fit(train_data)\n",
    "\n",
    "# Make predictions.\n",
    "predictions = model.transform(test_data)\n",
    "\n",
    "# Select example rows to display.\n",
    "predictions.select(\"prediction\", \"indexedLabel\", \"features\").show(5)\n",
    "\n",
    "# Select (prediction, true label) and compute test error\n",
    "evaluator = MulticlassClassificationEvaluator(\n",
    "    labelCol=\"indexedLabel\", predictionCol=\"prediction\", metricName=\"accuracy\")\n",
    "accuracy = evaluator.evaluate(predictions)\n",
    "print(\"Test Error = %g \" % (1.0 - accuracy))\n"
   ]
  },
  {
   "cell_type": "code",
   "execution_count": 19,
   "metadata": {},
   "outputs": [
    {
     "name": "stdout",
     "output_type": "stream",
     "text": [
      "<class 'pyspark.sql.dataframe.DataFrame'>\n",
      "<class 'list'>\n"
     ]
    },
    {
     "data": {
      "image/png": "[encoded data removed]",
      "text/plain": [
       "<Figure size 432x288 with 1 Axes>"
      ]
     },
     "metadata": {
      "needs_background": "light"
     },
     "output_type": "display_data"
    }
   ],
   "source": [
    "import matplotlib.pyplot as plt\n",
    "\n",
    "nb_y_predict = model.transform(test_data)\n",
    "\n",
    "#nb_y_predict = model.predict(x_test)\n",
    "nb_y_expected =  test_data\n",
    "#['Discount Code']\n",
    "print(type(nb_y_expected))\n",
    "mvv_list = test_data.select('Discount Code').collect()\n",
    "print(type(mvv_list))\n",
    "\n",
    "nb_y_expected=mvv_list\n",
    "\n",
    "mvv_list2 = nb_y_predict.select('prediction').collect()\n",
    "\n",
    "nb_y_predict=mvv_list2\n",
    "\n",
    "from sklearn.metrics import roc_curve, auc\n",
    "from sklearn.preprocessing import label_binarize\n",
    "\n",
    "# Binarize the output - for th e ROC\n",
    "bz_nb_y_expected = label_binarize(nb_y_expected, classes=[1,2,3,4])\n",
    "bz_nb_y_predict = label_binarize(nb_y_predict, classes=[1,2,3,4])\n",
    "n_classes = bz_nb_y_expected.shape[1]\n",
    "\n",
    "# Compute ROC curve and ROC area for each class\n",
    "nb_fpr = dict()\n",
    "nb_tpr = dict()\n",
    "nb_roc_auc = dict()\n",
    "for i in range(n_classes):\n",
    "    nb_fpr[i], nb_tpr[i], _ = roc_curve(bz_nb_y_expected[:, i], bz_nb_y_predict[:, i])\n",
    "    nb_roc_auc[i] = auc(nb_fpr[i], nb_tpr[i])\n",
    "\n",
    "# Compute micro-average ROC curve and ROC area\n",
    "nb_fpr[\"micro\"],nb_tpr[\"micro\"], _ = roc_curve(bz_nb_y_expected.ravel(), bz_nb_y_predict.ravel())\n",
    "nb_roc_auc[\"micro\"] = auc(nb_fpr[\"micro\"],  nb_tpr[\"micro\"])\n",
    "\n",
    "#plotting the statistics data\n",
    "plt.figure()\n",
    "lw =1.5\n",
    "plt.plot(nb_fpr[2], nb_tpr[2], color='darkorange', lw=lw, label='ROC curve (area = %0.2f)' %  nb_roc_auc[\"micro\"])\n",
    "plt.plot([0, 1], [0, 1], color='navy', lw=lw, linestyle='--')\n",
    "plt.xlim([0.0, 1.0])\n",
    "plt.ylim([0.0, 1.05])\n",
    "plt.xlabel('False Positive Rate')\n",
    "plt.ylabel('True Positive Rate')\n",
    "plt.title('Receiver operating characteristic of Decision Tree')\n",
    "plt.legend(loc=\"lower right\")\n",
    "plt.show()"
   ]
  },
  {
   "cell_type": "code",
   "execution_count": 20,
   "metadata": {},
   "outputs": [],
   "source": [
    "y_true = predictions.select(\"Discount Code\")\n",
    "y_true = y_true.toPandas()\n",
    "\n",
    "y_pred = predictions.select(\"prediction\")\n",
    "y_pred = y_pred.toPandas()\n",
    "\n",
    "cnf_matrix = confusion_matrix(y_true, y_pred)\n"
   ]
  },
  {
   "cell_type": "code",
   "execution_count": 21,
   "metadata": {},
   "outputs": [
    {
     "name": "stdout",
     "output_type": "stream",
     "text": [
      "Confusion matrix, without normalization\n"
     ]
    },
    {
     "data": {
      "image/png": "[encoded data removed]",
      "text/plain": [
       "<Figure size 432x288 with 2 Axes>"
      ]
     },
     "metadata": {
      "needs_background": "light"
     },
     "output_type": "display_data"
    }
   ],
   "source": [
    "plt.figure()\n",
    "classes=[1,2,3,4]\n",
    "plot_confusion_matrix(cnf_matrix, classes,\n",
    "                      title='Confusion matrix, Decision Tree')\n",
    "plt.show()"
   ]
  },
  {
   "cell_type": "code",
   "execution_count": 22,
   "metadata": {},
   "outputs": [
    {
     "name": "stdout",
     "output_type": "stream",
     "text": [
      "TP of 1 and 1 is 3431\n",
      "TP of 2 and 2 is 2543\n",
      "TP of 3 and 3 is 1294\n",
      "TP of 4 and 4 is 208\n",
      "------------------------------------\n",
      "FP of 2 and 1 is 1684\n",
      "FP of 3 and 1 is 3284\n",
      "FP of 4 and 1 is 49\n",
      "FP of 1 and 2 is 6131\n",
      "FP of 3 and 2 is 2214\n",
      "FP of 4 and 2 is 31\n",
      "FP of 1 and 3 is 4207\n",
      "FP of 2 and 3 is 4001\n",
      "FP of 4 and 3 is 48\n",
      "FP of 1 and 4 is 2490\n",
      "FP of 2 and 4 is 2129\n",
      "FP of 3 and 4 is 987\n",
      "------------------------------------\n",
      "FN of 1 and 2 is 1684\n",
      "FN of 1 and 3 is 3284\n",
      "FN of 1 and 4 is 49\n",
      "FN of 2 and 1 is 6131\n",
      "FN of 2 and 3 is 2214\n",
      "FN of 2 and 4 is 31\n",
      "FN of 3 and 1 is 4207\n",
      "FN of 3 and 2 is 4001\n",
      "FN of 3 and 4 is 48\n",
      "FN of 4 and 1 is 2490\n",
      "FN of 4 and 2 is 2129\n",
      "FN of 4 and 3 is 987\n"
     ]
    }
   ],
   "source": [
    "printCM(cnf_matrix, 4)"
   ]
  },
  {
   "cell_type": "code",
   "execution_count": null,
   "metadata": {},
   "outputs": [],
   "source": []
  },
  {
   "cell_type": "code",
   "execution_count": null,
   "metadata": {},
   "outputs": [],
   "source": []
  }
 ],
 "metadata": {
  "kernelspec": {
   "display_name": "Python 3",
   "language": "python",
   "name": "python3"
  },
  "language_info": {
   "codemirror_mode": {
    "name": "ipython",
    "version": 3
   },
   "file_extension": ".py",
   "mimetype": "text/x-python",
   "name": "python",
   "nbconvert_exporter": "python",
   "pygments_lexer": "ipython3",
   "version": "3.6.7"
  }
 },
 "nbformat": 4,
 "nbformat_minor": 2
}
